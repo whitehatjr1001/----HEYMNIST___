{
 "cells": [
  {
   "cell_type": "code",
   "execution_count": 1,
   "id": "39787af5",
   "metadata": {
    "execution": {
     "iopub.execute_input": "2023-03-13T16:08:43.762158Z",
     "iopub.status.busy": "2023-03-13T16:08:43.761124Z",
     "iopub.status.idle": "2023-03-13T16:08:51.380603Z",
     "shell.execute_reply": "2023-03-13T16:08:51.379521Z"
    },
    "papermill": {
     "duration": 7.628516,
     "end_time": "2023-03-13T16:08:51.383315",
     "exception": false,
     "start_time": "2023-03-13T16:08:43.754799",
     "status": "completed"
    },
    "tags": []
   },
   "outputs": [],
   "source": [
    "import numpy as np \n",
    "import pandas as pd \n",
    "import matplotlib.pyplot as plt\n",
    "from keras import Sequential\n",
    "from keras.layers import Dense, Conv2D, MaxPooling2D ,UpSampling2D\n",
    "from keras.datasets import mnist\n",
    "import tensorflow\n",
    "from tensorflow.keras.callbacks import EarlyStopping"
   ]
  },
  {
   "cell_type": "code",
   "execution_count": 2,
   "id": "ebe8f378",
   "metadata": {
    "execution": {
     "iopub.execute_input": "2023-03-13T16:08:51.393833Z",
     "iopub.status.busy": "2023-03-13T16:08:51.393160Z",
     "iopub.status.idle": "2023-03-13T16:08:51.848680Z",
     "shell.execute_reply": "2023-03-13T16:08:51.847470Z"
    },
    "papermill": {
     "duration": 0.463805,
     "end_time": "2023-03-13T16:08:51.851585",
     "exception": false,
     "start_time": "2023-03-13T16:08:51.387780",
     "status": "completed"
    },
    "tags": []
   },
   "outputs": [
    {
     "name": "stdout",
     "output_type": "stream",
     "text": [
      "Downloading data from https://storage.googleapis.com/tensorflow/tf-keras-datasets/mnist.npz\n",
      "11490434/11490434 [==============================] - 0s 0us/step\n"
     ]
    }
   ],
   "source": [
    "(x_train,_),(x_test,_)=mnist.load_data()"
   ]
  },
  {
   "cell_type": "code",
   "execution_count": 3,
   "id": "52163e08",
   "metadata": {
    "execution": {
     "iopub.execute_input": "2023-03-13T16:08:51.862036Z",
     "iopub.status.busy": "2023-03-13T16:08:51.861724Z",
     "iopub.status.idle": "2023-03-13T16:08:51.940717Z",
     "shell.execute_reply": "2023-03-13T16:08:51.939592Z"
    },
    "papermill": {
     "duration": 0.08733,
     "end_time": "2023-03-13T16:08:51.943633",
     "exception": false,
     "start_time": "2023-03-13T16:08:51.856303",
     "status": "completed"
    },
    "tags": []
   },
   "outputs": [],
   "source": [
    "x_train = x_train.astype('float32') / 255\n",
    "x_test = x_test.astype('float32') / 255"
   ]
  },
  {
   "cell_type": "code",
   "execution_count": 4,
   "id": "16bf7579",
   "metadata": {
    "execution": {
     "iopub.execute_input": "2023-03-13T16:08:51.954264Z",
     "iopub.status.busy": "2023-03-13T16:08:51.953935Z",
     "iopub.status.idle": "2023-03-13T16:08:51.963585Z",
     "shell.execute_reply": "2023-03-13T16:08:51.962500Z"
    },
    "papermill": {
     "duration": 0.017638,
     "end_time": "2023-03-13T16:08:51.965947",
     "exception": false,
     "start_time": "2023-03-13T16:08:51.948309",
     "status": "completed"
    },
    "tags": []
   },
   "outputs": [
    {
     "data": {
      "text/plain": [
       "(60000, 28, 28, 1)"
      ]
     },
     "execution_count": 4,
     "metadata": {},
     "output_type": "execute_result"
    }
   ],
   "source": [
    "x_train = x_train.reshape(len(x_train), 28, 28, 1)\n",
    "x_test = x_test.reshape(len(x_test), 28, 28, 1)\n",
    "x_test.shape\n",
    "x_train.shape"
   ]
  },
  {
   "cell_type": "code",
   "execution_count": 5,
   "id": "0013b674",
   "metadata": {
    "execution": {
     "iopub.execute_input": "2023-03-13T16:08:51.975890Z",
     "iopub.status.busy": "2023-03-13T16:08:51.975564Z",
     "iopub.status.idle": "2023-03-13T16:08:51.980553Z",
     "shell.execute_reply": "2023-03-13T16:08:51.979496Z"
    },
    "papermill": {
     "duration": 0.01236,
     "end_time": "2023-03-13T16:08:51.982602",
     "exception": false,
     "start_time": "2023-03-13T16:08:51.970242",
     "status": "completed"
    },
    "tags": []
   },
   "outputs": [],
   "source": [
    "def Gausian_noise(x,sigma=0.5):\n",
    "    noise = np.random.normal(loc=0, scale=sigma, size=x.shape)\n",
    "    return x + noise\n"
   ]
  },
  {
   "cell_type": "code",
   "execution_count": 6,
   "id": "d096dacf",
   "metadata": {
    "execution": {
     "iopub.execute_input": "2023-03-13T16:08:51.992030Z",
     "iopub.status.busy": "2023-03-13T16:08:51.991758Z",
     "iopub.status.idle": "2023-03-13T16:08:53.859391Z",
     "shell.execute_reply": "2023-03-13T16:08:53.858322Z"
    },
    "papermill": {
     "duration": 1.87541,
     "end_time": "2023-03-13T16:08:53.862152",
     "exception": false,
     "start_time": "2023-03-13T16:08:51.986742",
     "status": "completed"
    },
    "tags": []
   },
   "outputs": [],
   "source": [
    "#creating nosiey images \n",
    "x_train_noisy=Gausian_noise(x_train)\n",
    "x_test_noisy=Gausian_noise(x_test)"
   ]
  },
  {
   "cell_type": "code",
   "execution_count": 7,
   "id": "ef945dd4",
   "metadata": {
    "execution": {
     "iopub.execute_input": "2023-03-13T16:08:53.874284Z",
     "iopub.status.busy": "2023-03-13T16:08:53.873308Z",
     "iopub.status.idle": "2023-03-13T16:08:54.078918Z",
     "shell.execute_reply": "2023-03-13T16:08:54.077637Z"
    },
    "papermill": {
     "duration": 0.214045,
     "end_time": "2023-03-13T16:08:54.081980",
     "exception": false,
     "start_time": "2023-03-13T16:08:53.867935",
     "status": "completed"
    },
    "tags": []
   },
   "outputs": [],
   "source": [
    "x_train_noisy=np.clip(x_train_noisy,0.,1.)\n",
    "x_test_noisy=np.clip(x_test_noisy,0.,1.)"
   ]
  },
  {
   "cell_type": "code",
   "execution_count": 8,
   "id": "341f665a",
   "metadata": {
    "execution": {
     "iopub.execute_input": "2023-03-13T16:08:54.093886Z",
     "iopub.status.busy": "2023-03-13T16:08:54.093142Z",
     "iopub.status.idle": "2023-03-13T16:08:54.323910Z",
     "shell.execute_reply": "2023-03-13T16:08:54.322973Z"
    },
    "papermill": {
     "duration": 0.239131,
     "end_time": "2023-03-13T16:08:54.326146",
     "exception": false,
     "start_time": "2023-03-13T16:08:54.087015",
     "status": "completed"
    },
    "tags": []
   },
   "outputs": [
    {
     "data": {
      "image/png": "[encoded data removed]",
      "text/plain": [
       "<Figure size 640x480 with 1 Axes>"
      ]
     },
     "metadata": {},
     "output_type": "display_data"
    }
   ],
   "source": [
    "index = np.random.randint(len(x_test))\n",
    "# plot the image\n",
    "plt.imshow(x_test[index].reshape(28,28,1))\n",
    "plt.gray()"
   ]
  },
  {
   "cell_type": "code",
   "execution_count": 9,
   "id": "6d8b14eb",
   "metadata": {
    "execution": {
     "iopub.execute_input": "2023-03-13T16:08:54.337547Z",
     "iopub.status.busy": "2023-03-13T16:08:54.336033Z",
     "iopub.status.idle": "2023-03-13T16:08:54.547331Z",
     "shell.execute_reply": "2023-03-13T16:08:54.546416Z"
    },
    "papermill": {
     "duration": 0.21873,
     "end_time": "2023-03-13T16:08:54.549427",
     "exception": false,
     "start_time": "2023-03-13T16:08:54.330697",
     "status": "completed"
    },
    "tags": []
   },
   "outputs": [
    {
     "data": {
      "text/plain": [
       "<function matplotlib.pyplot.gray()>"
      ]
     },
     "execution_count": 9,
     "metadata": {},
     "output_type": "execute_result"
    },
    {
     "data": {
      "image/png": "[encoded data removed]",
      "text/plain": [
       "<Figure size 640x480 with 1 Axes>"
      ]
     },
     "metadata": {},
     "output_type": "display_data"
    }
   ],
   "source": [
    "index=np.random.randint(len(x_train_noisy))\n",
    "plt.imshow(x_train_noisy[index].reshape(28,28,1))\n",
    "plt.gray"
   ]
  },
  {
   "cell_type": "code",
   "execution_count": 10,
   "id": "8f25a39b",
   "metadata": {
    "execution": {
     "iopub.execute_input": "2023-03-13T16:08:54.560608Z",
     "iopub.status.busy": "2023-03-13T16:08:54.560315Z",
     "iopub.status.idle": "2023-03-13T16:08:58.338123Z",
     "shell.execute_reply": "2023-03-13T16:08:58.337308Z"
    },
    "papermill": {
     "duration": 3.806378,
     "end_time": "2023-03-13T16:08:58.360630",
     "exception": false,
     "start_time": "2023-03-13T16:08:54.554252",
     "status": "completed"
    },
    "tags": []
   },
   "outputs": [
    {
     "name": "stdout",
     "output_type": "stream",
     "text": [
      "Model: \"sequential\"\n",
      "_________________________________________________________________\n",
      " Layer (type)                Output Shape              Param #   \n",
      "=================================================================\n",
      " conv2d (Conv2D)             (None, 28, 28, 32)        320       \n",
      "                                                                 \n",
      " max_pooling2d (MaxPooling2D  (None, 14, 14, 32)       0         \n",
      " )                                                               \n",
      "                                                                 \n",
      " conv2d_1 (Conv2D)           (None, 14, 14, 16)        4624      \n",
      "                                                                 \n",
      " max_pooling2d_1 (MaxPooling  (None, 7, 7, 16)         0         \n",
      " 2D)                                                             \n",
      "                                                                 \n",
      " conv2d_2 (Conv2D)           (None, 7, 7, 16)          2320      \n",
      "                                                                 \n",
      " up_sampling2d (UpSampling2D  (None, 14, 14, 16)       0         \n",
      " )                                                               \n",
      "                                                                 \n",
      " conv2d_3 (Conv2D)           (None, 14, 14, 32)        4640      \n",
      "                                                                 \n",
      " up_sampling2d_1 (UpSampling  (None, 28, 28, 32)       0         \n",
      " 2D)                                                             \n",
      "                                                                 \n",
      " conv2d_4 (Conv2D)           (None, 28, 28, 1)         289       \n",
      "                                                                 \n",
      "=================================================================\n",
      "Total params: 12,193\n",
      "Trainable params: 12,193\n",
      "Non-trainable params: 0\n",
      "_________________________________________________________________\n"
     ]
    }
   ],
   "source": [
    "\n",
    "model = Sequential([\n",
    "                    # encoder network\n",
    "                    Conv2D(32, 3, activation='relu', padding='same', input_shape=(28, 28, 1)),\n",
    "                    MaxPooling2D(2, padding='same'),\n",
    "                    Conv2D(16, 3, activation='relu', padding='same'),\n",
    "                    MaxPooling2D(2, padding='same'),\n",
    "                    # decoder network\n",
    "                    Conv2D(16, 3, activation='relu', padding='same'),\n",
    "                    UpSampling2D(2),\n",
    "                    Conv2D(32, 3, activation='relu', padding='same'),\n",
    "                    UpSampling2D(2),\n",
    "                    # output layer\n",
    "                    Conv2D(1, 3, activation='sigmoid', padding='same')\n",
    "])\n",
    "\n",
    "model.compile(optimizer='adam', loss='binary_crossentropy')\n",
    "model.summary()\n",
    "\n",
    "     "
   ]
  },
  {
   "cell_type": "code",
   "execution_count": 11,
   "id": "a74f2b8c",
   "metadata": {
    "execution": {
     "iopub.execute_input": "2023-03-13T16:08:58.375404Z",
     "iopub.status.busy": "2023-03-13T16:08:58.375090Z",
     "iopub.status.idle": "2023-03-13T16:08:58.381360Z",
     "shell.execute_reply": "2023-03-13T16:08:58.380211Z"
    },
    "papermill": {
     "duration": 0.016305,
     "end_time": "2023-03-13T16:08:58.383597",
     "exception": false,
     "start_time": "2023-03-13T16:08:58.367292",
     "status": "completed"
    },
    "tags": []
   },
   "outputs": [],
   "source": [
    "import tensorflow as tf\n",
    "import math\n",
    "early_stopping = EarlyStopping(monitor='val_loss',patience=2)\n",
    "\n",
    "\n",
    "def step_decay(epoch):\n",
    "    initial_lrate = 0.001\n",
    "    drop = 0.1\n",
    "    epochs_drop = 10.0\n",
    "    lrate = initial_lrate * math.pow(drop, math.floor((1+epoch)/epochs_drop))\n",
    "    return lrate\n",
    "\n",
    "lr_scheduler = tf.keras.callbacks.LearningRateScheduler(step_decay, verbose=1)"
   ]
  },
  {
   "cell_type": "code",
   "execution_count": 12,
   "id": "aee10c4f",
   "metadata": {
    "execution": {
     "iopub.execute_input": "2023-03-13T16:08:58.398348Z",
     "iopub.status.busy": "2023-03-13T16:08:58.397403Z",
     "iopub.status.idle": "2023-03-13T16:08:58.402517Z",
     "shell.execute_reply": "2023-03-13T16:08:58.401539Z"
    },
    "papermill": {
     "duration": 0.014318,
     "end_time": "2023-03-13T16:08:58.404577",
     "exception": false,
     "start_time": "2023-03-13T16:08:58.390259",
     "status": "completed"
    },
    "tags": []
   },
   "outputs": [],
   "source": [
    "callbacks = [early_stopping, lr_scheduler]"
   ]
  },
  {
   "cell_type": "code",
   "execution_count": 13,
   "id": "f2deb9ec",
   "metadata": {
    "execution": {
     "iopub.execute_input": "2023-03-13T16:08:58.418751Z",
     "iopub.status.busy": "2023-03-13T16:08:58.417947Z",
     "iopub.status.idle": "2023-03-13T16:11:04.417184Z",
     "shell.execute_reply": "2023-03-13T16:11:04.415927Z"
    },
    "papermill": {
     "duration": 126.008975,
     "end_time": "2023-03-13T16:11:04.419831",
     "exception": false,
     "start_time": "2023-03-13T16:08:58.410856",
     "status": "completed"
    },
    "tags": []
   },
   "outputs": [
    {
     "name": "stdout",
     "output_type": "stream",
     "text": [
      "\n",
      "Epoch 1: LearningRateScheduler setting learning rate to 0.001.\n",
      "Epoch 1/50\n",
      "235/235 [==============================] - 12s 12ms/step - loss: 0.2411 - val_loss: 0.1378 - lr: 0.0010\n",
      "\n",
      "Epoch 2: LearningRateScheduler setting learning rate to 0.001.\n",
      "Epoch 2/50\n",
      "235/235 [==============================] - 2s 10ms/step - loss: 0.1302 - val_loss: 0.1225 - lr: 0.0010\n",
      "\n",
      "Epoch 3: LearningRateScheduler setting learning rate to 0.001.\n",
      "Epoch 3/50\n",
      "235/235 [==============================] - 2s 10ms/step - loss: 0.1209 - val_loss: 0.1192 - lr: 0.0010\n",
      "\n",
      "Epoch 4: LearningRateScheduler setting learning rate to 0.001.\n",
      "Epoch 4/50\n",
      "235/235 [==============================] - 2s 10ms/step - loss: 0.1169 - val_loss: 0.1140 - lr: 0.0010\n",
      "\n",
      "Epoch 5: LearningRateScheduler setting learning rate to 0.001.\n",
      "Epoch 5/50\n",
      "235/235 [==============================] - 2s 10ms/step - loss: 0.1144 - val_loss: 0.1118 - lr: 0.0010\n",
      "\n",
      "Epoch 6: LearningRateScheduler setting learning rate to 0.001.\n",
      "Epoch 6/50\n",
      "235/235 [==============================] - 2s 10ms/step - loss: 0.1123 - val_loss: 0.1100 - lr: 0.0010\n",
      "\n",
      "Epoch 7: LearningRateScheduler setting learning rate to 0.001.\n",
      "Epoch 7/50\n",
      "235/235 [==============================] - 2s 10ms/step - loss: 0.1105 - val_loss: 0.1086 - lr: 0.0010\n",
      "\n",
      "Epoch 8: LearningRateScheduler setting learning rate to 0.001.\n",
      "Epoch 8/50\n",
      "235/235 [==============================] - 2s 10ms/step - loss: 0.1091 - val_loss: 0.1071 - lr: 0.0010\n",
      "\n",
      "Epoch 9: LearningRateScheduler setting learning rate to 0.001.\n",
      "Epoch 9/50\n",
      "235/235 [==============================] - 2s 10ms/step - loss: 0.1079 - val_loss: 0.1061 - lr: 0.0010\n",
      "\n",
      "Epoch 10: LearningRateScheduler setting learning rate to 0.0001.\n",
      "Epoch 10/50\n",
      "235/235 [==============================] - 2s 9ms/step - loss: 0.1071 - val_loss: 0.1059 - lr: 1.0000e-04\n",
      "\n",
      "Epoch 11: LearningRateScheduler setting learning rate to 0.0001.\n",
      "Epoch 11/50\n",
      "235/235 [==============================] - 2s 9ms/step - loss: 0.1070 - val_loss: 0.1058 - lr: 1.0000e-04\n",
      "\n",
      "Epoch 12: LearningRateScheduler setting learning rate to 0.0001.\n",
      "Epoch 12/50\n",
      "235/235 [==============================] - 2s 10ms/step - loss: 0.1069 - val_loss: 0.1057 - lr: 1.0000e-04\n",
      "\n",
      "Epoch 13: LearningRateScheduler setting learning rate to 0.0001.\n",
      "Epoch 13/50\n",
      "235/235 [==============================] - 2s 9ms/step - loss: 0.1068 - val_loss: 0.1056 - lr: 1.0000e-04\n",
      "\n",
      "Epoch 14: LearningRateScheduler setting learning rate to 0.0001.\n",
      "Epoch 14/50\n",
      "235/235 [==============================] - 2s 9ms/step - loss: 0.1066 - val_loss: 0.1054 - lr: 1.0000e-04\n",
      "\n",
      "Epoch 15: LearningRateScheduler setting learning rate to 0.0001.\n",
      "Epoch 15/50\n",
      "235/235 [==============================] - 2s 10ms/step - loss: 0.1065 - val_loss: 0.1053 - lr: 1.0000e-04\n",
      "\n",
      "Epoch 16: LearningRateScheduler setting learning rate to 0.0001.\n",
      "Epoch 16/50\n",
      "235/235 [==============================] - 2s 10ms/step - loss: 0.1064 - val_loss: 0.1052 - lr: 1.0000e-04\n",
      "\n",
      "Epoch 17: LearningRateScheduler setting learning rate to 0.0001.\n",
      "Epoch 17/50\n",
      "235/235 [==============================] - 2s 10ms/step - loss: 0.1062 - val_loss: 0.1051 - lr: 1.0000e-04\n",
      "\n",
      "Epoch 18: LearningRateScheduler setting learning rate to 0.0001.\n",
      "Epoch 18/50\n",
      "235/235 [==============================] - 2s 10ms/step - loss: 0.1061 - val_loss: 0.1049 - lr: 1.0000e-04\n",
      "\n",
      "Epoch 19: LearningRateScheduler setting learning rate to 0.0001.\n",
      "Epoch 19/50\n",
      "235/235 [==============================] - 2s 10ms/step - loss: 0.1059 - val_loss: 0.1047 - lr: 1.0000e-04\n",
      "\n",
      "Epoch 20: LearningRateScheduler setting learning rate to 1.0000000000000003e-05.\n",
      "Epoch 20/50\n",
      "235/235 [==============================] - 2s 10ms/step - loss: 0.1058 - val_loss: 0.1047 - lr: 1.0000e-05\n",
      "\n",
      "Epoch 21: LearningRateScheduler setting learning rate to 1.0000000000000003e-05.\n",
      "Epoch 21/50\n",
      "235/235 [==============================] - 2s 9ms/step - loss: 0.1058 - val_loss: 0.1047 - lr: 1.0000e-05\n",
      "\n",
      "Epoch 22: LearningRateScheduler setting learning rate to 1.0000000000000003e-05.\n",
      "Epoch 22/50\n",
      "235/235 [==============================] - 2s 10ms/step - loss: 0.1058 - val_loss: 0.1047 - lr: 1.0000e-05\n",
      "\n",
      "Epoch 23: LearningRateScheduler setting learning rate to 1.0000000000000003e-05.\n",
      "Epoch 23/50\n",
      "235/235 [==============================] - 2s 9ms/step - loss: 0.1057 - val_loss: 0.1046 - lr: 1.0000e-05\n",
      "\n",
      "Epoch 24: LearningRateScheduler setting learning rate to 1.0000000000000003e-05.\n",
      "Epoch 24/50\n",
      "235/235 [==============================] - 2s 10ms/step - loss: 0.1057 - val_loss: 0.1046 - lr: 1.0000e-05\n",
      "\n",
      "Epoch 25: LearningRateScheduler setting learning rate to 1.0000000000000003e-05.\n",
      "Epoch 25/50\n",
      "235/235 [==============================] - 2s 9ms/step - loss: 0.1057 - val_loss: 0.1046 - lr: 1.0000e-05\n",
      "\n",
      "Epoch 26: LearningRateScheduler setting learning rate to 1.0000000000000003e-05.\n",
      "Epoch 26/50\n",
      "235/235 [==============================] - 2s 9ms/step - loss: 0.1057 - val_loss: 0.1046 - lr: 1.0000e-05\n",
      "\n",
      "Epoch 27: LearningRateScheduler setting learning rate to 1.0000000000000003e-05.\n",
      "Epoch 27/50\n",
      "235/235 [==============================] - 2s 10ms/step - loss: 0.1057 - val_loss: 0.1046 - lr: 1.0000e-05\n",
      "\n",
      "Epoch 28: LearningRateScheduler setting learning rate to 1.0000000000000003e-05.\n",
      "Epoch 28/50\n",
      "235/235 [==============================] - 2s 10ms/step - loss: 0.1056 - val_loss: 0.1045 - lr: 1.0000e-05\n",
      "\n",
      "Epoch 29: LearningRateScheduler setting learning rate to 1.0000000000000003e-05.\n",
      "Epoch 29/50\n",
      "235/235 [==============================] - 2s 10ms/step - loss: 0.1056 - val_loss: 0.1045 - lr: 1.0000e-05\n",
      "\n",
      "Epoch 30: LearningRateScheduler setting learning rate to 1.0000000000000002e-06.\n",
      "Epoch 30/50\n",
      "235/235 [==============================] - 2s 10ms/step - loss: 0.1056 - val_loss: 0.1045 - lr: 1.0000e-06\n",
      "\n",
      "Epoch 31: LearningRateScheduler setting learning rate to 1.0000000000000002e-06.\n",
      "Epoch 31/50\n",
      "235/235 [==============================] - 2s 10ms/step - loss: 0.1056 - val_loss: 0.1045 - lr: 1.0000e-06\n",
      "\n",
      "Epoch 32: LearningRateScheduler setting learning rate to 1.0000000000000002e-06.\n",
      "Epoch 32/50\n",
      "235/235 [==============================] - 2s 9ms/step - loss: 0.1056 - val_loss: 0.1045 - lr: 1.0000e-06\n",
      "\n",
      "Epoch 33: LearningRateScheduler setting learning rate to 1.0000000000000002e-06.\n",
      "Epoch 33/50\n",
      "235/235 [==============================] - 2s 9ms/step - loss: 0.1056 - val_loss: 0.1045 - lr: 1.0000e-06\n",
      "\n",
      "Epoch 34: LearningRateScheduler setting learning rate to 1.0000000000000002e-06.\n",
      "Epoch 34/50\n",
      "235/235 [==============================] - 2s 10ms/step - loss: 0.1056 - val_loss: 0.1045 - lr: 1.0000e-06\n",
      "\n",
      "Epoch 35: LearningRateScheduler setting learning rate to 1.0000000000000002e-06.\n",
      "Epoch 35/50\n",
      "235/235 [==============================] - 2s 9ms/step - loss: 0.1056 - val_loss: 0.1045 - lr: 1.0000e-06\n",
      "\n",
      "Epoch 36: LearningRateScheduler setting learning rate to 1.0000000000000002e-06.\n",
      "Epoch 36/50\n",
      "235/235 [==============================] - 2s 10ms/step - loss: 0.1056 - val_loss: 0.1045 - lr: 1.0000e-06\n",
      "\n",
      "Epoch 37: LearningRateScheduler setting learning rate to 1.0000000000000002e-06.\n",
      "Epoch 37/50\n",
      "235/235 [==============================] - 2s 9ms/step - loss: 0.1056 - val_loss: 0.1045 - lr: 1.0000e-06\n",
      "\n",
      "Epoch 38: LearningRateScheduler setting learning rate to 1.0000000000000002e-06.\n",
      "Epoch 38/50\n",
      "235/235 [==============================] - 2s 10ms/step - loss: 0.1056 - val_loss: 0.1045 - lr: 1.0000e-06\n",
      "\n",
      "Epoch 39: LearningRateScheduler setting learning rate to 1.0000000000000002e-06.\n",
      "Epoch 39/50\n",
      "235/235 [==============================] - 2s 9ms/step - loss: 0.1056 - val_loss: 0.1045 - lr: 1.0000e-06\n",
      "\n",
      "Epoch 40: LearningRateScheduler setting learning rate to 1.0000000000000002e-07.\n",
      "Epoch 40/50\n",
      "235/235 [==============================] - 2s 9ms/step - loss: 0.1056 - val_loss: 0.1045 - lr: 1.0000e-07\n",
      "\n",
      "Epoch 41: LearningRateScheduler setting learning rate to 1.0000000000000002e-07.\n",
      "Epoch 41/50\n",
      "235/235 [==============================] - 2s 10ms/step - loss: 0.1056 - val_loss: 0.1045 - lr: 1.0000e-07\n",
      "\n",
      "Epoch 42: LearningRateScheduler setting learning rate to 1.0000000000000002e-07.\n",
      "Epoch 42/50\n",
      "235/235 [==============================] - 2s 9ms/step - loss: 0.1056 - val_loss: 0.1045 - lr: 1.0000e-07\n",
      "\n",
      "Epoch 43: LearningRateScheduler setting learning rate to 1.0000000000000002e-07.\n",
      "Epoch 43/50\n",
      "235/235 [==============================] - 2s 10ms/step - loss: 0.1056 - val_loss: 0.1045 - lr: 1.0000e-07\n",
      "\n",
      "Epoch 44: LearningRateScheduler setting learning rate to 1.0000000000000002e-07.\n",
      "Epoch 44/50\n",
      "235/235 [==============================] - 2s 9ms/step - loss: 0.1056 - val_loss: 0.1045 - lr: 1.0000e-07\n",
      "\n",
      "Epoch 45: LearningRateScheduler setting learning rate to 1.0000000000000002e-07.\n",
      "Epoch 45/50\n",
      "235/235 [==============================] - 2s 10ms/step - loss: 0.1056 - val_loss: 0.1045 - lr: 1.0000e-07\n",
      "\n",
      "Epoch 46: LearningRateScheduler setting learning rate to 1.0000000000000002e-07.\n",
      "Epoch 46/50\n",
      "235/235 [==============================] - 2s 10ms/step - loss: 0.1056 - val_loss: 0.1045 - lr: 1.0000e-07\n",
      "\n",
      "Epoch 47: LearningRateScheduler setting learning rate to 1.0000000000000002e-07.\n",
      "Epoch 47/50\n",
      "235/235 [==============================] - 2s 10ms/step - loss: 0.1056 - val_loss: 0.1045 - lr: 1.0000e-07\n",
      "\n",
      "Epoch 48: LearningRateScheduler setting learning rate to 1.0000000000000002e-07.\n",
      "Epoch 48/50\n",
      "235/235 [==============================] - 2s 10ms/step - loss: 0.1056 - val_loss: 0.1045 - lr: 1.0000e-07\n",
      "\n",
      "Epoch 49: LearningRateScheduler setting learning rate to 1.0000000000000002e-07.\n",
      "Epoch 49/50\n",
      "235/235 [==============================] - 2s 10ms/step - loss: 0.1056 - val_loss: 0.1045 - lr: 1.0000e-07\n",
      "\n",
      "Epoch 50: LearningRateScheduler setting learning rate to 1.0000000000000004e-08.\n",
      "Epoch 50/50\n",
      "235/235 [==============================] - 2s 9ms/step - loss: 0.1056 - val_loss: 0.1045 - lr: 1.0000e-08\n"
     ]
    }
   ],
   "source": [
    "history=model.fit(x_train_noisy, x_train, epochs=50, batch_size=256, validation_data=(x_test_noisy, x_test),callbacks=callbacks)"
   ]
  },
  {
   "cell_type": "code",
   "execution_count": 14,
   "id": "47d28f97",
   "metadata": {
    "execution": {
     "iopub.execute_input": "2023-03-13T16:11:04.650341Z",
     "iopub.status.busy": "2023-03-13T16:11:04.650008Z",
     "iopub.status.idle": "2023-03-13T16:11:06.240495Z",
     "shell.execute_reply": "2023-03-13T16:11:06.239436Z"
    },
    "papermill": {
     "duration": 1.708249,
     "end_time": "2023-03-13T16:11:06.243025",
     "exception": false,
     "start_time": "2023-03-13T16:11:04.534776",
     "status": "completed"
    },
    "tags": []
   },
   "outputs": [
    {
     "name": "stdout",
     "output_type": "stream",
     "text": [
      "313/313 [==============================] - 1s 2ms/step\n"
     ]
    }
   ],
   "source": [
    "pred = model.predict(x_test_noisy)"
   ]
  },
  {
   "cell_type": "code",
   "execution_count": 15,
   "id": "bc1adbc3",
   "metadata": {
    "execution": {
     "iopub.execute_input": "2023-03-13T16:11:06.477100Z",
     "iopub.status.busy": "2023-03-13T16:11:06.476759Z",
     "iopub.status.idle": "2023-03-13T16:11:06.692740Z",
     "shell.execute_reply": "2023-03-13T16:11:06.691779Z"
    },
    "papermill": {
     "duration": 0.334342,
     "end_time": "2023-03-13T16:11:06.695049",
     "exception": false,
     "start_time": "2023-03-13T16:11:06.360707",
     "status": "completed"
    },
    "tags": []
   },
   "outputs": [
    {
     "data": {
      "image/png": "[encoded data removed]",
      "text/plain": [
       "<Figure size 640x480 with 1 Axes>"
      ]
     },
     "metadata": {},
     "output_type": "display_data"
    }
   ],
   "source": [
    "\n",
    "# randomly select input image\n",
    "index = np.random.randint(len(x_test))\n",
    "# plot the image\n",
    "plt.imshow(x_test_noisy[index].reshape(28,28))\n",
    "plt.gray()"
   ]
  },
  {
   "cell_type": "code",
   "execution_count": 16,
   "id": "89f06033",
   "metadata": {
    "execution": {
     "iopub.execute_input": "2023-03-13T16:11:06.930422Z",
     "iopub.status.busy": "2023-03-13T16:11:06.929509Z",
     "iopub.status.idle": "2023-03-13T16:11:07.142475Z",
     "shell.execute_reply": "2023-03-13T16:11:07.141360Z"
    },
    "papermill": {
     "duration": 0.331446,
     "end_time": "2023-03-13T16:11:07.144827",
     "exception": false,
     "start_time": "2023-03-13T16:11:06.813381",
     "status": "completed"
    },
    "tags": []
   },
   "outputs": [
    {
     "data": {
      "image/png": "[encoded data removed]",
      "text/plain": [
       "<Figure size 640x480 with 1 Axes>"
      ]
     },
     "metadata": {},
     "output_type": "display_data"
    }
   ],
   "source": [
    "plt.imshow(pred[index].reshape(28,28))\n",
    "plt.gray()\n"
   ]
  },
  {
   "cell_type": "markdown",
   "id": "efcfd6f2",
   "metadata": {
    "papermill": {
     "duration": 0.113712,
     "end_time": "2023-03-13T16:11:07.373938",
     "exception": false,
     "start_time": "2023-03-13T16:11:07.260226",
     "status": "completed"
    },
    "tags": []
   },
   "source": [
    "we can see our model performs well and denoising is done succesfully\n"
   ]
  },
  {
   "cell_type": "code",
   "execution_count": 17,
   "id": "962a6d6c",
   "metadata": {
    "execution": {
     "iopub.execute_input": "2023-03-13T16:11:07.660671Z",
     "iopub.status.busy": "2023-03-13T16:11:07.660294Z",
     "iopub.status.idle": "2023-03-13T16:11:07.777800Z",
     "shell.execute_reply": "2023-03-13T16:11:07.776593Z"
    },
    "papermill": {
     "duration": 0.236406,
     "end_time": "2023-03-13T16:11:07.780121",
     "exception": false,
     "start_time": "2023-03-13T16:11:07.543715",
     "status": "completed"
    },
    "tags": []
   },
   "outputs": [
    {
     "data": {
      "image/png": "[encoded data removed]",
      "text/plain": [
       "<Figure size 1000x400 with 2 Axes>"
      ]
     },
     "metadata": {},
     "output_type": "display_data"
    }
   ],
   "source": [
    "index = np.random.randint(len(x_test))\n",
    "plt.figure(figsize=(10, 4))\n",
    "# display original image\n",
    "ax = plt.subplot(1, 2, 1)\n",
    "plt.imshow(x_test_noisy[index].reshape(28,28))\n",
    "plt.gray()\n",
    "ax.get_xaxis().set_visible(False)\n",
    "ax.get_yaxis().set_visible(False)\n",
    "# display compressed image\n",
    "ax = plt.subplot(1, 2, 2)\n",
    "plt.imshow(pred[index].reshape(28,28))\n",
    "plt.gray()\n",
    "ax.get_xaxis().set_visible(False)\n",
    "ax.get_yaxis().set_visible(False)\n",
    "plt.show()"
   ]
  }
 ],
 "metadata": {
  "kernelspec": {
   "display_name": "Python 3",
   "language": "python",
   "name": "python3"
  },
  "language_info": {
   "codemirror_mode": {
    "name": "ipython",
    "version": 3
   },
   "file_extension": ".py",
   "mimetype": "text/x-python",
   "name": "python",
   "nbconvert_exporter": "python",
   "pygments_lexer": "ipython3",
   "version": "3.7.12"
  },
  "papermill": {
   "default_parameters": {},
   "duration": 156.966002,
   "end_time": "2023-03-13T16:11:10.984272",
   "environment_variables": {},
   "exception": null,
   "input_path": "__notebook__.ipynb",
   "output_path": "__notebook__.ipynb",
   "parameters": {},
   "start_time": "2023-03-13T16:08:34.018270",
   "version": "2.4.0"
  }
 },
 "nbformat": 4,
 "nbformat_minor": 5
}
